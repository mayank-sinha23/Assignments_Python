{
 "cells": [
  {
   "cell_type": "markdown",
   "id": "195a2b27",
   "metadata": {},
   "source": [
    "# Assignment 1"
   ]
  },
  {
   "cell_type": "markdown",
   "id": "c6ef7705",
   "metadata": {},
   "source": [
    "1.In the below elements which of them are values or an expression? eg:- values can be integer or string and expressions will be mathematical operators.\n",
    "\n",
    "Ans-    * :  Expression\n",
    "    \n",
    "     'hello' : Value\n",
    "\n",
    "     -87.8 : Value\n",
    "\n",
    "      - :  Expression\n",
    "        \n",
    "      / : Expression\n",
    "\n",
    "      + : Expression\n",
    "        \n",
    "      6 : Value\n",
    "\n",
    "2.What is the difference between string and variable?\n",
    "\n",
    "Ans -  A variable is name of the location in the memory which can stores different data types like strings , int etc. String is type which the variables hold. Eg : var1 = ‘Hello’ , var2 =100 . Var 1 variable holds the data of string type and var2 stores the data of type int.\n",
    "\n",
    "3.Describe three different data types.\n",
    "\n",
    "Ans - Numeric – Numeric data type can be either int, float, complex types which consists of numbers. Eg – 1000, 13.33 etc \n",
    "      Strings – Sequence of characters which are mentioned in quotes. Eg , ‘Hello’, “World”. \n",
    "      Boolean – Boolean data types can take either True or False value.\n",
    "\n",
    "4.What is an expression made up of? What do all expressions do?\n",
    "\n",
    "Ans - An expression is a made up of operators and operands. Expression produces a specific value.\n",
    "\n",
    "5.This assignment statements, like spam = 10. What is the difference between an expression and a statement?\n",
    "\n",
    "Ans - Expression is a combination of operators and operands with produces a specific value whereas statement is an instruction which the interpreter executes.\n",
    "\n",
    "6. After running the following code, what does the variable bacon contain?\n",
    "\n",
    "bacon = 22 bacon + 1 \n",
    "\n",
    "Ans - Bacon will contain the value 22.\n",
    "\n",
    "7. What should the values of the following two terms be?\n",
    "\n",
    "Ans - 'spam' + 'spamspam' - The value will be ‘spamspamspam’. \n",
    "\n",
    "      'spam' * 3 – The value will be ‘spamspamspam’\n",
    "\n",
    "8. Why is eggs a valid variable name while 100 is invalid?\n",
    "\n",
    "Ans - Variable names should start letter or underscore character. It cannot start with a number.\n",
    "\n",
    "9.What three functions can be used to get the integer, floating-point number, or string version of a value?\n",
    "\n",
    "Ans - Integer – int(x)\n",
    "\n",
    "      Floating-point -number – float(x) \n",
    "    \n",
    "      String – str(x)\n",
    "\n",
    "10.Why does this expression cause an error? How can you fix it?\n",
    "\n",
    "Ans - 'I have eaten ' + 99 + ' burritos.' – String and integer type can’t be concatenated together and hence will throw an error. 99 should be type str. Fix will be - 'I have eaten ' + ‘99’ + ' burritos.'"
   ]
  },
  {
   "cell_type": "markdown",
   "id": "bbb03c8e",
   "metadata": {},
   "source": []
  }
 ],
 "metadata": {
  "kernelspec": {
   "display_name": "Python 3 (ipykernel)",
   "language": "python",
   "name": "python3"
  },
  "language_info": {
   "codemirror_mode": {
    "name": "ipython",
    "version": 3
   },
   "file_extension": ".py",
   "mimetype": "text/x-python",
   "name": "python",
   "nbconvert_exporter": "python",
   "pygments_lexer": "ipython3",
   "version": "3.9.7"
  }
 },
 "nbformat": 4,
 "nbformat_minor": 5
}
