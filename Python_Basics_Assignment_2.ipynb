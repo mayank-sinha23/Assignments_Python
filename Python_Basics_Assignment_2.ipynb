{
 "cells": [
  {
   "cell_type": "markdown",
   "id": "6e8f47ae",
   "metadata": {},
   "source": [
    "# Assignment 2"
   ]
  },
  {
   "cell_type": "markdown",
   "id": "0dfdd9b7",
   "metadata": {},
   "source": [
    "1.What are the two values of the Boolean data type? How do you write them?\n",
    "\n",
    "Ans - The two values of the Boolean data type are True and False. For Eg , 2 > 1 will return boolean True and 1 > 2 will return boolean False.\n",
    "\n",
    "2. What are the three different types of Boolean operators?\n",
    "\n",
    "Ans - The three different types of boolean operators are :\n",
    "    \n",
    "      and - This returns True only if all the inputs are True. If any one of the inputs is False then it will return False.\n",
    "        \n",
    "      or - This returns True if any of the inputs is True.\n",
    "    \n",
    "      not - It takes one arguments and negate it. If the input is True then it will be False and vice-versa.\n",
    "\n",
    "3. Make a list of each Boolean operator's truth tables (i.e. every possible combination of Boolean values for the operator and what it evaluate ).\n",
    "\n",
    "Ans -   OR -\n",
    "\n",
    "         A      B      A or B\n",
    "        True   True     True\n",
    "        True   False    True\n",
    "        False  True     True\n",
    "        False  False    False\n",
    "        \n",
    "        \n",
    "        AND -\n",
    "        \n",
    "        A       B       A and B\n",
    "        \n",
    "        True    True     True\n",
    "        True    False    False\n",
    "        False   True     False\n",
    "        False   False    False\n",
    "        \n",
    "        NOT\n",
    "        \n",
    "        A       not A\n",
    "        True    False\n",
    "        False   True\n",
    "        \n",
    "         \n",
    "\n",
    "4. What are the values of the following expressions?\n",
    "\n",
    "(5 > 4) and (3 == 5)\n",
    "not (5 > 4)\n",
    "(5 > 4) or (3 == 5)\n",
    "not ((5 > 4) or (3 == 5))\n",
    "(True and True) and (True == False)\n",
    "(not False) or (not True)\n",
    "\n",
    "Ans -  (5 > 4) and (3 == 5) :  False\n",
    "    \n",
    "       not (5 > 4) : True\n",
    "            \n",
    "        (5 > 4) or (3 == 5) : True\n",
    "            \n",
    "        (True and True) and (True == False) : False\n",
    "            \n",
    "        (not False) or (not True) : True    \n",
    "            \n",
    "            \n",
    "        \n",
    "5. What are the six comparison operators?\n",
    "\n",
    "Ans - Six comparision operators are - Equal to (==), Not equal to (!=), Less than (<), Less than or equal( <=),Greater than(>), Greater than equal to (>=)\n",
    "\n",
    "\n",
    "6. How do you tell the difference between the equal to and assignment operators?Describe a condition and when you would use one.\n",
    "\n",
    "Ans - Assignment operator is denoted by = whereas the comparison operator is denoted by == (equal to).\n",
    "\n",
    "      To assign value to a variable , we use assignment operator. Eg , a =10 , b ='test'\n",
    "    \n",
    "      To compare 2 values we use equal to (==). \n",
    "        \n",
    "        Eg, if (a==b):\n",
    "                print(\"Hello\")\n",
    "                                                           \n",
    "\n",
    "7. Identify the three blocks in this code:\n",
    "spam = 0\n",
    "if spam == 10:\n",
    "print('eggs')\n",
    "if spam > 5:\n",
    "print('bacon')\n",
    "else:\n",
    "print('ham')\n",
    "print('spam')\n",
    "print('spam')\n",
    "\n",
    "Ans - The three blocks depends on the value of spam. The first if block will be exceuted if the value is exactly 10. The second\n",
    "      if block will be executed when the value of spam is greater than 5. It will go the third block, which is the else part of\n",
    "      the 2nd if block. It will be executed when the value is not greater than 5. In this example , the 3rd block will be \n",
    "      executed since the value of spam is 0. It will print 'ham', 'spam' and 'spam.'\n",
    "        \n",
    "        \n",
    "\n",
    "\n",
    "8. Write code that prints Hello if 1 is stored in spam, prints Howdy if 2 is stored in spam, and prints Greetings! if anything else is stored in spam.\n",
    "\n",
    "Ans - Please refer below the code below.\n",
    "\n",
    "9.If your programme is stuck in an endless loop, what keys you’ll press?\n",
    "\n",
    "Ans - Ctrl + C\n",
    "\n",
    "10. How can you tell the difference between break and continue?\n",
    "\n",
    "Ans - Break statement stops the iteration of the current loop containing it and the flow goes to the statement outside the loop\n",
    "      whereas continue statement skip the execution of the statements mentioned below continue and move to the next iteration\n",
    "      within the same loop.\n",
    "\n",
    "11. In a for loop, what is the difference between range(10), range(0, 10), and range(0, 10, 1)?\n",
    "\n",
    "Ans-  All 3 produces the same result. The range operator takes three parameter - range (start, stop, step) \n",
    "      Start and Step are optional and takes the value 0 and 1 respectively. So all the 3 cases it will consider 0 till 9.\n",
    "\n",
    "12. Write1 a short program that prints the numbers 1 to 10 using a for loop. Then write an equivalent program that prints the numbers 1 to 10 using a while loop.\n",
    "\n",
    "Ans - Please refer below.\n",
    "\n",
    "13. If you had a function named bacon() inside a module named spam, how would you call it after importing spam?\n",
    "\n",
    "Ans - spam.bacon()\n"
   ]
  },
  {
   "cell_type": "code",
   "execution_count": null,
   "id": "0da3cbcc",
   "metadata": {},
   "outputs": [],
   "source": [
    "8. Write code that prints Hello if 1 is stored in spam, prints Howdy if 2 is stored in spam, and prints Greetings! if anything else is stored in spam.\n"
   ]
  },
  {
   "cell_type": "code",
   "execution_count": 8,
   "id": "1f158f37",
   "metadata": {},
   "outputs": [
    {
     "name": "stdout",
     "output_type": "stream",
     "text": [
      "Hello\n",
      "Howdy\n",
      "Greetings!\n"
     ]
    }
   ],
   "source": [
    "# Function which prints as per the number stored in spam. \n",
    "def spam_message(spam):\n",
    "    if spam ==1:\n",
    "        print(\"Hello\")\n",
    "    elif spam ==2:\n",
    "        print(\"Howdy\")\n",
    "    else:\n",
    "        print(\"Greetings!\")\n",
    "        \n",
    "spam_message(1) \n",
    "spam_message(2)\n",
    "spam_message(3)"
   ]
  },
  {
   "cell_type": "markdown",
   "id": "5a4ebb16",
   "metadata": {},
   "source": [
    "12. Write1 a short program that prints the numbers 1 to 10 using a for loop. Then write an equivalent program that prints the numbers 1 to 10 using a while loop."
   ]
  },
  {
   "cell_type": "code",
   "execution_count": 4,
   "id": "c9dae0da",
   "metadata": {},
   "outputs": [
    {
     "name": "stdout",
     "output_type": "stream",
     "text": [
      "1\n",
      "2\n",
      "3\n",
      "4\n",
      "5\n",
      "6\n",
      "7\n",
      "8\n",
      "9\n",
      "10\n"
     ]
    }
   ],
   "source": [
    "# Print Numbers 1 to 10 using foor loop.\n",
    "for i in range(1, 11):\n",
    "    print(i)    "
   ]
  },
  {
   "cell_type": "code",
   "execution_count": 3,
   "id": "91343dd1",
   "metadata": {},
   "outputs": [
    {
     "name": "stdout",
     "output_type": "stream",
     "text": [
      "1\n",
      "2\n",
      "3\n",
      "4\n",
      "5\n",
      "6\n",
      "7\n",
      "8\n",
      "9\n",
      "10\n"
     ]
    }
   ],
   "source": [
    "# Print 1 to 10 using while loop \n",
    "i=1\n",
    "while(i<=10):\n",
    "    print(i)\n",
    "    i = i + 1\n",
    "    continue"
   ]
  }
 ],
 "metadata": {
  "kernelspec": {
   "display_name": "Python 3 (ipykernel)",
   "language": "python",
   "name": "python3"
  },
  "language_info": {
   "codemirror_mode": {
    "name": "ipython",
    "version": 3
   },
   "file_extension": ".py",
   "mimetype": "text/x-python",
   "name": "python",
   "nbconvert_exporter": "python",
   "pygments_lexer": "ipython3",
   "version": "3.9.7"
  }
 },
 "nbformat": 4,
 "nbformat_minor": 5
}
