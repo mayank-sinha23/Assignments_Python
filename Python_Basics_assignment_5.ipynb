{
 "cells": [
  {
   "cell_type": "markdown",
   "id": "3dbcf827",
   "metadata": {},
   "source": [
    "# Assignment 5"
   ]
  },
  {
   "cell_type": "markdown",
   "id": "66d89066",
   "metadata": {},
   "source": [
    "1. What does an empty dictionary's code look like?\n",
    "\n",
    "Ans - Empty dictionary is denoted by {}.\n",
    "\n",
    "2. What is the value of a dictionary value with the key 'foo' and the value 42?\n",
    "\n",
    "Ans - {'foo':42}\n",
    "\n",
    "3. What is the most significant distinction between a dictionary and a list?\n",
    "\n",
    "Ans - List is collection of ordered items which can be accessed using indexes whereas Dictionary is a hashbale data structure \n",
    "\n",
    "      which contains key-value pair.\n",
    "\n",
    "4. What happens if you try to access spam['foo'] if spam is {'bar': 100}?\n",
    "\n",
    "Ans - It will give KeyError because the key 'bar doesn't exist. It contains only 1 key i.e 'bar'.\n",
    "\n",
    "5. If a dictionary is stored in spam, what is the difference between the expressions 'cat' in spam and 'cat' in spam.keys()?\n",
    "\n",
    "Ans - Both expressions  will search if there is 'cat' as a key in the dictionary. \n",
    "\n",
    "6. If a dictionary is stored in spam, what is the difference between the expressions 'cat' in spam and 'cat' in spam.values()?\n",
    "\n",
    "Ans - 'cat' in spam will search if the 'cat' is present as a key in the dictionary whereas 'cat' in spam.values() will search\n",
    "\n",
    "       if 'cat' is present as a value in the dictionary.\n",
    "\n",
    "7. What is a shortcut for the following code?\n",
    "if 'color' not in spam:\n",
    "spam['color'] = 'black'\n",
    "\n",
    "Ans - spam.setdefault('color', 'black')\n",
    "\n",
    "8. How do you \"pretty print\" dictionary values using which module and function?\n",
    "\n",
    "Ans - pprint module should be used and the function is of same name pprint.\n",
    "\n",
    "      import pprint\n",
    "      pprint.pprint()\n"
   ]
  },
  {
   "cell_type": "markdown",
   "id": "7fac4d31",
   "metadata": {},
   "source": []
  }
 ],
 "metadata": {
  "kernelspec": {
   "display_name": "Python 3 (ipykernel)",
   "language": "python",
   "name": "python3"
  },
  "language_info": {
   "codemirror_mode": {
    "name": "ipython",
    "version": 3
   },
   "file_extension": ".py",
   "mimetype": "text/x-python",
   "name": "python",
   "nbconvert_exporter": "python",
   "pygments_lexer": "ipython3",
   "version": "3.9.7"
  }
 },
 "nbformat": 4,
 "nbformat_minor": 5
}
