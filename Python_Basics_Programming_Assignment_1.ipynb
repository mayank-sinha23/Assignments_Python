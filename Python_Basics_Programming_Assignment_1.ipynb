{
 "cells": [
  {
   "cell_type": "markdown",
   "id": "b3758b39",
   "metadata": {},
   "source": [
    "# Python Basics Programming Assignment 1 "
   ]
  },
  {
   "cell_type": "code",
   "execution_count": null,
   "id": "e8cd3e1c",
   "metadata": {},
   "outputs": [],
   "source": [
    "1.\tWrite a Python program to print \"Hello Python\"?\n",
    "2.\tWrite a Python program to do arithmetical operations addition and division.?\n",
    "3.\tWrite a Python program to find the area of a triangle?\n",
    "4.\tWrite a Python program to swap two variables?\n",
    "5.\tWrite a Python program to generate a random number?\n"
   ]
  },
  {
   "cell_type": "code",
   "execution_count": 1,
   "id": "8b21bd1e",
   "metadata": {},
   "outputs": [
    {
     "name": "stdout",
     "output_type": "stream",
     "text": [
      "Hello Python\n"
     ]
    }
   ],
   "source": [
    "print(\"Hello Python\")"
   ]
  },
  {
   "cell_type": "code",
   "execution_count": 35,
   "id": "0bbe4308",
   "metadata": {},
   "outputs": [
    {
     "data": {
      "text/plain": [
       "'Addition result is 8 and Division result is 3.0'"
      ]
     },
     "execution_count": 35,
     "metadata": {},
     "output_type": "execute_result"
    }
   ],
   "source": [
    "def addition_division(a,b):\n",
    "    \"\"\"\n",
    "    Function to do addition and division.\n",
    "    Takes 2 arguments a and b.\n",
    "    \"\"\"\n",
    "    c = a + b\n",
    "    d = a / b\n",
    "    return f'Addition result is {c} and Division result is {d}'\n",
    "\n",
    "# Calculating the addition and divsion with a=6 and b=2\n",
    "addition_division(6, 2)"
   ]
  },
  {
   "cell_type": "code",
   "execution_count": 37,
   "id": "e5bac2ad",
   "metadata": {},
   "outputs": [
    {
     "data": {
      "text/plain": [
       "'Area of triangle is 8.0'"
      ]
     },
     "execution_count": 37,
     "metadata": {},
     "output_type": "execute_result"
    }
   ],
   "source": [
    "def area_of_triangle(base,height):\n",
    "    \"\"\"\n",
    "    Function to calculate area of triangle.\n",
    "    Takes 2 arguments i.e base and height\n",
    "    \"\"\"\n",
    "    return f'Area of triangle is {1/2 * base * height}'\n",
    "\n",
    "# Calculating the area of a triangle with base = 4cm and height = 4 cm\n",
    "area_of_triangle(4,4)"
   ]
  },
  {
   "cell_type": "code",
   "execution_count": 38,
   "id": "256aa859",
   "metadata": {},
   "outputs": [
    {
     "data": {
      "text/plain": [
       "'Value of a is 2 and b is 1'"
      ]
     },
     "execution_count": 38,
     "metadata": {},
     "output_type": "execute_result"
    }
   ],
   "source": [
    "def swap_variable(a,b):\n",
    "    \"\"\"\n",
    "    Function to swap 2 variables\n",
    "    Takes 2 arguments i.e a and b.\n",
    "    \"\"\"\n",
    "    a ,b = b, a\n",
    "    return f'Value of a is {a} and b is {b}'\n",
    "\n",
    "# Swapping the value by passing a =1 and b=2\n",
    "swap_variable(1,2)"
   ]
  },
  {
   "cell_type": "code",
   "execution_count": 24,
   "id": "6303bc0f",
   "metadata": {},
   "outputs": [
    {
     "name": "stdout",
     "output_type": "stream",
     "text": [
      "88\n"
     ]
    }
   ],
   "source": [
    "# Randomly generating an integer between 1 and 100. \n",
    "import random\n",
    "print(random.randint(1,100))"
   ]
  }
 ],
 "metadata": {
  "kernelspec": {
   "display_name": "Python 3 (ipykernel)",
   "language": "python",
   "name": "python3"
  },
  "language_info": {
   "codemirror_mode": {
    "name": "ipython",
    "version": 3
   },
   "file_extension": ".py",
   "mimetype": "text/x-python",
   "name": "python",
   "nbconvert_exporter": "python",
   "pygments_lexer": "ipython3",
   "version": "3.9.7"
  }
 },
 "nbformat": 4,
 "nbformat_minor": 5
}
