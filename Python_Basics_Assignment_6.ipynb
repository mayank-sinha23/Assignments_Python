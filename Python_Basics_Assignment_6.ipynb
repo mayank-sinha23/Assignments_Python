{
 "cells": [
  {
   "cell_type": "markdown",
   "id": "c0a0e014",
   "metadata": {},
   "source": [
    "# Assignment 6"
   ]
  },
  {
   "cell_type": "markdown",
   "id": "c93c3347",
   "metadata": {},
   "source": [
    "1. What are escape characters, and how do you use them?\n",
    "\n",
    "Ans - Escape character denotes those characters which can't be used in a string normmally. It can be used with backslash(\\).\n",
    "\n",
    "2. What do the escape characters n and t stand for?\n",
    "\n",
    "Ans - n : newline , t: tab\n",
    "\n",
    "3. What is the way to include backslash characters in a string?\n",
    "\n",
    "Ans - We can use a backslash character \\ before the backslash character (\\\\)\n",
    "\n",
    "4. The string \"Howl's Moving Castle\" is a correct value. Why isn't the single quote character in the word Howl's not escaped\n",
    "a problem?\n",
    "\n",
    "Ans - The string is defined under double quotes hence it is not a problem. But if we have represented the whole string in \n",
    "      single quotes then we have use the escape character.\n",
    "\n",
    "\n",
    "5. How do you write a string of newlines if you don't want to use the n character?\n",
    "\n",
    "Ans - We can use multi line strings denoted by triple quotes(\"\"\"\").\n",
    "\n",
    "\n",
    "6. What are the values of the given expressions?\n",
    "'Hello, world!'[1]\n",
    "'Hello, world!'[0:5]\n",
    "'Hello, world!'[:5]\n",
    "'Hello, world!'[3:]\n",
    "\n",
    "Ans - 'Hello, world!'[1]  -> 'e'\n",
    "\n",
    "      'Hello, world!'[0:5] -> 'Hello'\n",
    "      \n",
    "      'Hello, world!'[:5] -> 'Hello'\n",
    "      \n",
    "      'Hello, world!'[3:] -> 'lo, world!'\n",
    "\n",
    "\n",
    "7. What are the values of the following expressions?\n",
    "'Hello'.upper()\n",
    "'Hello'.upper().isupper()\n",
    "'Hello'.upper().lower()\n",
    "\n",
    "Ans - 'Hello'.upper()  -> 'HELLO'\n",
    "\n",
    "      'Hello'.upper().isupper() -> True\n",
    "      \n",
    "      'Hello'.upper().lower() -> 'hello'\n",
    "\n",
    "8. What are the values of the following expressions?\n",
    "'Remember, remember, the fifth of July.'.split()\n",
    "\n",
    "'-'.join('There can only one.'.split())\n",
    "\n",
    "Ans - 'Remember, remember, the fifth of July.'.split()   -> ['Remember,', 'remember,', 'the', 'fifth', 'of', 'July.']\n",
    "\n",
    "       '-'.join('There can only one.'.split())    ->  'There-can-only-one.'\n",
    "\n",
    "9. What are the methods for right-justifying, left-justifying, and centering a string?\n",
    "\n",
    "Ans -  right-justifying : rjust , left-justifying :ljust, centering: center()\n",
    "\n",
    "10. What is the best way to remove whitespace characters from the start or end?\n",
    "\n",
    "Ans - lstrip and rstrip can be used to remove whitespace characters from the start or end respectively.\n"
   ]
  },
  {
   "cell_type": "code",
   "execution_count": null,
   "id": "451b1b0b",
   "metadata": {},
   "outputs": [],
   "source": []
  }
 ],
 "metadata": {
  "kernelspec": {
   "display_name": "Python 3 (ipykernel)",
   "language": "python",
   "name": "python3"
  },
  "language_info": {
   "codemirror_mode": {
    "name": "ipython",
    "version": 3
   },
   "file_extension": ".py",
   "mimetype": "text/x-python",
   "name": "python",
   "nbconvert_exporter": "python",
   "pygments_lexer": "ipython3",
   "version": "3.9.7"
  }
 },
 "nbformat": 4,
 "nbformat_minor": 5
}
