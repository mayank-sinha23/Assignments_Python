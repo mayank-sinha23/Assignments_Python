{
 "cells": [
  {
   "cell_type": "markdown",
   "id": "b2a1bd2e",
   "metadata": {},
   "source": [
    "# Python Basics Programming Assignment 2"
   ]
  },
  {
   "cell_type": "markdown",
   "id": "1a9ade16",
   "metadata": {},
   "source": [
    "1. Write a Python program to convert kilometers to miles?\n",
    "2. Write a Python program to convert Celsius to Fahrenheit?\n",
    "3. Write a Python program to display calendar?\n",
    "4. Write a Python program to solve quadratic equation?\n",
    "5. Write a Python program to swap two variables without temp variable?"
   ]
  },
  {
   "cell_type": "code",
   "execution_count": 49,
   "id": "458689a8",
   "metadata": {},
   "outputs": [
    {
     "name": "stdout",
     "output_type": "stream",
     "text": [
      "Enter the km :12\n"
     ]
    },
    {
     "data": {
      "text/plain": [
       "'12.0 kilometers is equal to 7.45644 miles'"
      ]
     },
     "execution_count": 49,
     "metadata": {},
     "output_type": "execute_result"
    }
   ],
   "source": [
    "def km_to_miles():\n",
    "    \"\"\"\n",
    "    Function to convert kilometer to miles.\n",
    "    \"\"\"\n",
    "    km = float(input(\"Enter the km :\"))\n",
    "    miles = km * 0.62137\n",
    "    return f'{km} kilometers is equal to {miles} miles'\n",
    "\n",
    "# Function call.\n",
    "km_to_miles()"
   ]
  },
  {
   "cell_type": "code",
   "execution_count": 52,
   "id": "fb3862ab",
   "metadata": {},
   "outputs": [
    {
     "name": "stdout",
     "output_type": "stream",
     "text": [
      "Enter the celsius :37.6\n"
     ]
    },
    {
     "data": {
      "text/plain": [
       "'37.6 celsius is equal to 99.68 fahrenheit'"
      ]
     },
     "execution_count": 52,
     "metadata": {},
     "output_type": "execute_result"
    }
   ],
   "source": [
    "def celsius_to_fahrenheit():\n",
    "    \"\"\"\n",
    "    Function to convert celsius to fahrenheit.\n",
    "    \"\"\"\n",
    "    celsius = float(input(\"Enter the celsius :\"))\n",
    "    fahrenheit = (celsius * 9/5) + 32  \n",
    "    return f'{celsius} celsius is equal to {fahrenheit} fahrenheit'\n",
    "\n",
    "# Function call.\n",
    "celsius_to_fahrenheit()"
   ]
  },
  {
   "cell_type": "code",
   "execution_count": 3,
   "id": "488c30f1",
   "metadata": {},
   "outputs": [
    {
     "name": "stdout",
     "output_type": "stream",
     "text": [
      "                                  2022\n",
      "\n",
      "      January                   February                   March\n",
      "Mo Tu We Th Fr Sa Su      Mo Tu We Th Fr Sa Su      Mo Tu We Th Fr Sa Su\n",
      "                1  2          1  2  3  4  5  6          1  2  3  4  5  6\n",
      " 3  4  5  6  7  8  9       7  8  9 10 11 12 13       7  8  9 10 11 12 13\n",
      "10 11 12 13 14 15 16      14 15 16 17 18 19 20      14 15 16 17 18 19 20\n",
      "17 18 19 20 21 22 23      21 22 23 24 25 26 27      21 22 23 24 25 26 27\n",
      "24 25 26 27 28 29 30      28                        28 29 30 31\n",
      "31\n",
      "\n",
      "       April                      May                       June\n",
      "Mo Tu We Th Fr Sa Su      Mo Tu We Th Fr Sa Su      Mo Tu We Th Fr Sa Su\n",
      "             1  2  3                         1             1  2  3  4  5\n",
      " 4  5  6  7  8  9 10       2  3  4  5  6  7  8       6  7  8  9 10 11 12\n",
      "11 12 13 14 15 16 17       9 10 11 12 13 14 15      13 14 15 16 17 18 19\n",
      "18 19 20 21 22 23 24      16 17 18 19 20 21 22      20 21 22 23 24 25 26\n",
      "25 26 27 28 29 30         23 24 25 26 27 28 29      27 28 29 30\n",
      "                          30 31\n",
      "\n",
      "        July                     August                  September\n",
      "Mo Tu We Th Fr Sa Su      Mo Tu We Th Fr Sa Su      Mo Tu We Th Fr Sa Su\n",
      "             1  2  3       1  2  3  4  5  6  7                1  2  3  4\n",
      " 4  5  6  7  8  9 10       8  9 10 11 12 13 14       5  6  7  8  9 10 11\n",
      "11 12 13 14 15 16 17      15 16 17 18 19 20 21      12 13 14 15 16 17 18\n",
      "18 19 20 21 22 23 24      22 23 24 25 26 27 28      19 20 21 22 23 24 25\n",
      "25 26 27 28 29 30 31      29 30 31                  26 27 28 29 30\n",
      "\n",
      "      October                   November                  December\n",
      "Mo Tu We Th Fr Sa Su      Mo Tu We Th Fr Sa Su      Mo Tu We Th Fr Sa Su\n",
      "                1  2          1  2  3  4  5  6                1  2  3  4\n",
      " 3  4  5  6  7  8  9       7  8  9 10 11 12 13       5  6  7  8  9 10 11\n",
      "10 11 12 13 14 15 16      14 15 16 17 18 19 20      12 13 14 15 16 17 18\n",
      "17 18 19 20 21 22 23      21 22 23 24 25 26 27      19 20 21 22 23 24 25\n",
      "24 25 26 27 28 29 30      28 29 30                  26 27 28 29 30 31\n",
      "31\n",
      "\n"
     ]
    }
   ],
   "source": [
    "# Printing 2022 calendar\n",
    "import calendar\n",
    "print(calendar.calendar(2022))"
   ]
  },
  {
   "cell_type": "code",
   "execution_count": 66,
   "id": "f79e59f9",
   "metadata": {},
   "outputs": [
    {
     "data": {
      "text/plain": [
       "'Roots are real and equal. Both roots are 1.0.'"
      ]
     },
     "execution_count": 66,
     "metadata": {},
     "output_type": "execute_result"
    }
   ],
   "source": [
    "import math\n",
    "\n",
    "def quadratic_equation(a,b,c):\n",
    "    \"\"\"\n",
    "    Function to solve quadratic equation.\n",
    "    \"\"\"\n",
    "    if a == 0:\n",
    "        return 'Please enter correct value for variable a'\n",
    "    d = b * b - 4 * a * c\n",
    "    res = math.sqrt(abs(d))\n",
    "    \n",
    "    if d > 0 :\n",
    "        root1 = (-b + res)/(2 * a)\n",
    "        root2 = (-b - res)/(2 * a)\n",
    "        return f'Roots are real and distict. Roots are {root1} and {root2}.'\n",
    "    elif d == 0:\n",
    "        root = -b / (2 * a)\n",
    "        return f'Roots are real and equal. Both roots are {root}.'\n",
    "    else:\n",
    "        root1 =f'{- b / (2 * a)} + i {res}'\n",
    "        root2 =f'{- b / (2 * a)} - i {res}'\n",
    "        return f'Roots are complex.Roots are {root1} and {root2}.'\n",
    "    \n",
    "# Function call\n",
    "quadratic_equation(1, -2, 1)    "
   ]
  },
  {
   "cell_type": "code",
   "execution_count": 5,
   "id": "581c82e6",
   "metadata": {},
   "outputs": [
    {
     "data": {
      "text/plain": [
       "'Value of a is 5 and b is 4'"
      ]
     },
     "execution_count": 5,
     "metadata": {},
     "output_type": "execute_result"
    }
   ],
   "source": [
    "def swap_variables(a,b):\n",
    "    \"\"\"\n",
    "    Function to swap variables without using temp.\n",
    "    \"\"\"\n",
    "    a,b = b,a\n",
    "    return f'Value of a is {a} and b is {b}'\n",
    "\n",
    "#Function call.\n",
    "swap_variables(4,5)"
   ]
  }
 ],
 "metadata": {
  "kernelspec": {
   "display_name": "Python 3 (ipykernel)",
   "language": "python",
   "name": "python3"
  },
  "language_info": {
   "codemirror_mode": {
    "name": "ipython",
    "version": 3
   },
   "file_extension": ".py",
   "mimetype": "text/x-python",
   "name": "python",
   "nbconvert_exporter": "python",
   "pygments_lexer": "ipython3",
   "version": "3.9.7"
  }
 },
 "nbformat": 4,
 "nbformat_minor": 5
}
